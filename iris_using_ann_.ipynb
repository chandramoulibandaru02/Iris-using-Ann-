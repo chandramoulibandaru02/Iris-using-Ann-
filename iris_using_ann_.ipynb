{
  "nbformat": 4,
  "nbformat_minor": 0,
  "metadata": {
    "colab": {
      "provenance": []
    },
    "kernelspec": {
      "name": "python3",
      "display_name": "Python 3"
    },
    "language_info": {
      "name": "python"
    }
  },
  "cells": [
    {
      "cell_type": "code",
      "source": [
        "import numpy as np\n",
        "import matplotlib.pyplot as plt\n",
        "import seaborn as sns\n",
        "import pandas as pd\n",
        "import tensorflow as tf\n",
        "from tensorflow.keras.models import Sequential\n",
        "from tensorflow.keras.layers import Dense,Flatten\n",
        "from sklearn.datasets import load_iris"
      ],
      "metadata": {
        "id": "OloE8W0C7IpE"
      },
      "execution_count": 17,
      "outputs": []
    },
    {
      "cell_type": "code",
      "execution_count": 18,
      "metadata": {
        "id": "rJg7y3DUunRN"
      },
      "outputs": [],
      "source": [
        "data=load_iris()"
      ]
    },
    {
      "cell_type": "code",
      "source": [
        "x=data.data\n",
        "y=data.target"
      ],
      "metadata": {
        "id": "9bdymNa9u6_1"
      },
      "execution_count": 19,
      "outputs": []
    },
    {
      "cell_type": "code",
      "source": [
        "from sklearn.model_selection import train_test_split as t"
      ],
      "metadata": {
        "id": "C_6BroXqvx0x"
      },
      "execution_count": 20,
      "outputs": []
    },
    {
      "cell_type": "code",
      "source": [
        "x_train,x_test,y_train,y_test=t(x,y,test_size=0.3,random_state=44)"
      ],
      "metadata": {
        "id": "db6ebWPev_8j"
      },
      "execution_count": 29,
      "outputs": []
    },
    {
      "cell_type": "code",
      "source": [
        "scaler=StandardScaler()"
      ],
      "metadata": {
        "id": "MInL1G9Mv6kI"
      },
      "execution_count": 30,
      "outputs": []
    },
    {
      "cell_type": "code",
      "source": [
        "x_test.shape"
      ],
      "metadata": {
        "colab": {
          "base_uri": "https://localhost:8080/"
        },
        "id": "I960AgcH8dXN",
        "outputId": "39e729b8-14a0-4001-bbc0-d0dd65ae82e2"
      },
      "execution_count": 32,
      "outputs": [
        {
          "output_type": "execute_result",
          "data": {
            "text/plain": [
              "(45, 4)"
            ]
          },
          "metadata": {},
          "execution_count": 32
        }
      ]
    },
    {
      "cell_type": "code",
      "source": [
        "x_train=scaler.fit_transform(x_train)\n",
        "x_test=scaler.transform(x_test)"
      ],
      "metadata": {
        "id": "ZGI9D6E3wHTf"
      },
      "execution_count": 31,
      "outputs": []
    },
    {
      "cell_type": "code",
      "source": [
        "x_train"
      ],
      "metadata": {
        "colab": {
          "base_uri": "https://localhost:8080/"
        },
        "id": "WyuieKdl8Wtk",
        "outputId": "e6340e08-6f01-4559-e218-df6acec57937"
      },
      "execution_count": 33,
      "outputs": [
        {
          "output_type": "execute_result",
          "data": {
            "text/plain": [
              "array([[ 1.01943619, -0.12852062,  0.79649076,  1.39746938],\n",
              "       [-0.94461519,  0.77112372, -1.33314902, -1.35379846],\n",
              "       [ 1.01943619,  0.09639047,  1.02672209,  1.52848213],\n",
              "       [-1.0673684 , -2.37763148, -0.18199238, -0.30569643],\n",
              "       [ 0.40567014, -1.92780931,  0.39358594,  0.34936734],\n",
              "       [-0.94461519,  1.67076807, -1.33314902, -1.22278571],\n",
              "       [-1.0673684 ,  0.32130155, -1.50582252, -1.35379846],\n",
              "       [ 0.52842335,  0.77112372,  1.02672209,  1.52848213],\n",
              "       [-1.31287482,  0.09639047, -1.27559119, -1.35379846],\n",
              "       [ 0.28291692, -0.12852062,  0.62381726,  0.74240561],\n",
              "       [ 0.65117656, -0.57834279,  1.02672209,  1.26645662],\n",
              "       [ 0.16016371, -0.12852062,  0.56625943,  0.74240561],\n",
              "       [ 0.16016371, -0.35343171,  0.39358594,  0.34936734],\n",
              "       [-0.08534271, -0.80325388,  0.04823894, -0.04367092],\n",
              "       [-0.45360234,  2.57041241, -1.39070685, -1.35379846],\n",
              "       [-0.33084913, -0.57834279,  0.62381726,  1.00443112],\n",
              "       [-1.31287482,  0.77112372, -1.10291769, -1.35379846],\n",
              "       [-0.33084913, -0.35343171, -0.12443455,  0.08734184],\n",
              "       [ 1.01943619, -1.25307605,  1.14183775,  0.74240561],\n",
              "       [ 1.26494261,  0.09639047,  0.91160642,  1.13544387],\n",
              "       [ 1.26494261,  0.09639047,  0.73893293,  1.39746938],\n",
              "       [ 0.52842335, -1.70289822,  0.3360281 ,  0.08734184],\n",
              "       [ 0.16016371,  0.77112372,  0.39358594,  0.4803801 ],\n",
              "       [-1.31287482,  0.77112372, -1.27559119, -1.35379846],\n",
              "       [ 0.28291692, -0.12852062,  0.45114377,  0.21835459],\n",
              "       [ 2.2469683 , -0.12852062,  1.31451125,  1.39746938],\n",
              "       [-0.33084913, -1.25307605,  0.04823894, -0.17468367],\n",
              "       [-0.20809592, -1.25307605,  0.6813751 ,  1.00443112],\n",
              "       [-1.92664088, -0.12852062, -1.56338035, -1.48481121],\n",
              "       [-1.55838124,  1.22094589, -1.62093818, -1.35379846],\n",
              "       [-1.80388767, -0.12852062, -1.44826468, -1.35379846],\n",
              "       [ 1.63320225, -0.12852062,  1.14183775,  0.4803801 ],\n",
              "       [-1.0673684 ,  1.22094589, -1.39070685, -1.35379846],\n",
              "       [-1.80388767,  0.32130155, -1.44826468, -1.35379846],\n",
              "       [ 2.2469683 ,  1.67076807,  1.65985824,  1.26645662],\n",
              "       [-0.94461519,  0.99603481, -1.39070685, -1.35379846],\n",
              "       [-0.33084913, -0.80325388,  0.22091244,  0.08734184],\n",
              "       [-1.0673684 , -0.12852062, -1.27559119, -1.35379846],\n",
              "       [ 0.16016371, -1.92780931,  0.10579678, -0.30569643],\n",
              "       [ 1.01943619,  0.54621264,  1.08427992,  1.13544387],\n",
              "       [-1.0673684 ,  0.99603481, -1.44826468, -1.22278571],\n",
              "       [-0.45360234, -1.25307605,  0.10579678,  0.08734184],\n",
              "       [ 0.40567014, -0.57834279,  0.56625943,  0.74240561],\n",
              "       [-0.20809592,  3.02023458, -1.33314902, -1.09177295],\n",
              "       [-0.45360234, -1.47798714, -0.06687672, -0.30569643],\n",
              "       [ 0.40567014,  0.77112372,  0.91160642,  1.39746938],\n",
              "       [ 1.01943619, -0.12852062,  0.6813751 ,  0.61139285],\n",
              "       [ 0.16016371, -1.92780931,  0.6813751 ,  0.34936734],\n",
              "       [ 0.77392977, -0.57834279,  0.45114377,  0.34936734],\n",
              "       [-0.94461519,  1.44585698, -1.33314902, -1.09177295],\n",
              "       [-0.94461519,  1.67076807, -1.10291769, -1.09177295],\n",
              "       [-0.45360234, -1.70289822,  0.10579678,  0.08734184],\n",
              "       [ 0.0374105 ,  0.32130155,  0.56625943,  0.74240561],\n",
              "       [-0.57635555,  1.44585698, -1.33314902, -1.35379846],\n",
              "       [-1.19012161,  0.09639047, -1.33314902, -1.35379846],\n",
              "       [-0.45360234,  0.99603481, -1.44826468, -1.35379846],\n",
              "       [-1.80388767, -0.35343171, -1.39070685, -1.35379846],\n",
              "       [-1.0673684 ,  0.54621264, -1.39070685, -1.35379846],\n",
              "       [ 0.52842335,  0.54621264,  0.5087016 ,  0.4803801 ],\n",
              "       [ 0.28291692, -0.57834279,  0.5087016 , -0.04367092],\n",
              "       [-0.33084913, -0.12852062,  0.39358594,  0.34936734],\n",
              "       [-1.31287482, -0.12852062, -1.39070685, -1.22278571],\n",
              "       [ 0.89668298, -0.12852062,  0.3360281 ,  0.21835459],\n",
              "       [-1.43562803,  0.32130155, -1.44826468, -1.35379846],\n",
              "       [-1.31287482, -0.12852062, -1.39070685, -1.48481121],\n",
              "       [ 0.28291692, -0.35343171,  0.5087016 ,  0.21835459],\n",
              "       [ 0.65117656,  0.09639047,  0.96916425,  0.74240561],\n",
              "       [-1.43562803,  0.32130155, -1.27559119, -1.35379846],\n",
              "       [-0.08534271, -1.02816496,  0.10579678, -0.04367092],\n",
              "       [-0.20809592,  1.67076807, -1.21803336, -1.22278571],\n",
              "       [ 1.38769583,  0.32130155,  0.5087016 ,  0.21835459],\n",
              "       [ 0.65117656,  0.32130155,  0.39358594,  0.34936734],\n",
              "       [ 1.63320225,  0.32130155,  1.25695341,  0.74240561],\n",
              "       [ 0.77392977, -0.12852062,  0.96916425,  0.74240561],\n",
              "       [ 0.65117656,  0.32130155,  0.85404859,  1.39746938],\n",
              "       [-0.57635555,  1.89567915, -1.44826468, -1.09177295],\n",
              "       [-0.08534271, -0.57834279,  0.73893293,  1.52848213],\n",
              "       [ 2.2469683 , -0.57834279,  1.65985824,  1.00443112],\n",
              "       [ 1.01943619,  0.09639047,  0.5087016 ,  0.34936734],\n",
              "       [ 1.87870867, -0.57834279,  1.31451125,  0.87341836],\n",
              "       [ 0.65117656, -0.57834279,  1.02672209,  1.13544387],\n",
              "       [ 0.0374105 , -0.12852062,  0.22091244,  0.34936734],\n",
              "       [ 0.52842335, -0.57834279,  0.73893293,  0.34936734],\n",
              "       [ 0.52842335, -1.25307605,  0.62381726,  0.34936734],\n",
              "       [-0.57635555,  0.77112372, -1.33314902, -1.09177295],\n",
              "       [ 0.65117656, -0.35343171,  0.27847027,  0.08734184],\n",
              "       [ 0.52842335, -1.25307605,  0.6813751 ,  0.87341836],\n",
              "       [ 0.16016371, -0.80325388,  0.73893293,  0.4803801 ],\n",
              "       [-1.0673684 , -1.70289822, -0.29710805, -0.30569643],\n",
              "       [ 0.52842335, -0.35343171,  1.02672209,  0.74240561],\n",
              "       [ 1.1421894 ,  0.32130155,  1.19939558,  1.39746938],\n",
              "       [-0.08534271,  2.12059024, -1.50582252, -1.35379846],\n",
              "       [-1.19012161, -0.12852062, -1.39070685, -1.35379846],\n",
              "       [-1.19012161, -1.47798714, -0.29710805, -0.30569643],\n",
              "       [ 0.52842335,  0.54621264,  1.25695341,  1.65949489],\n",
              "       [ 1.63320225,  1.22094589,  1.31451125,  1.65949489],\n",
              "       [-0.08534271, -0.80325388,  0.16335461, -0.30569643],\n",
              "       [-0.20809592, -0.57834279,  0.39358594,  0.08734184],\n",
              "       [ 1.26494261,  0.32130155,  1.08427992,  1.39746938],\n",
              "       [ 0.77392977, -0.12852062,  0.79649076,  1.00443112],\n",
              "       [-0.57635555, -0.12852062,  0.39358594,  0.34936734],\n",
              "       [-0.20809592, -0.35343171,  0.22091244,  0.08734184],\n",
              "       [ 2.49247473,  1.67076807,  1.48718474,  1.00443112],\n",
              "       [-0.82186198, -0.80325388,  0.04823894,  0.21835459],\n",
              "       [-0.57635555,  0.77112372, -1.21803336, -1.35379846]])"
            ]
          },
          "metadata": {},
          "execution_count": 33
        }
      ]
    },
    {
      "cell_type": "code",
      "source": [
        "model=Sequential([\n",
        "    Dense(15,activation='relu',input_shape=(4,)),\n",
        "    Dense(15,activation='relu'),\n",
        "    Dense(3,activation='softmax')\n",
        "])"
      ],
      "metadata": {
        "colab": {
          "base_uri": "https://localhost:8080/"
        },
        "id": "NnEckCMT9V6S",
        "outputId": "e6ab1f75-5f29-4d04-d9c4-aebaa68399f6"
      },
      "execution_count": 36,
      "outputs": [
        {
          "output_type": "stream",
          "name": "stderr",
          "text": [
            "/usr/local/lib/python3.11/dist-packages/keras/src/layers/core/dense.py:87: UserWarning: Do not pass an `input_shape`/`input_dim` argument to a layer. When using Sequential models, prefer using an `Input(shape)` object as the first layer in the model instead.\n",
            "  super().__init__(activity_regularizer=activity_regularizer, **kwargs)\n"
          ]
        }
      ]
    },
    {
      "cell_type": "code",
      "source": [
        "model.compile(\n",
        "    metrics=['accuracy'],\n",
        "    loss='sparse_categorical_crossentropy',\n",
        "    optimizer='adam'\n",
        ")"
      ],
      "metadata": {
        "id": "WlmARkGg-eSt"
      },
      "execution_count": 39,
      "outputs": []
    },
    {
      "cell_type": "code",
      "source": [
        "model.fit(x_train,y_train,epochs=5)"
      ],
      "metadata": {
        "colab": {
          "base_uri": "https://localhost:8080/"
        },
        "id": "7RVNocTh_PcW",
        "outputId": "f78e1900-ce96-4ad5-d438-8107501081ee"
      },
      "execution_count": 43,
      "outputs": [
        {
          "output_type": "stream",
          "name": "stdout",
          "text": [
            "Epoch 1/5\n",
            "\u001b[1m4/4\u001b[0m \u001b[32m━━━━━━━━━━━━━━━━━━━━\u001b[0m\u001b[37m\u001b[0m \u001b[1m0s\u001b[0m 6ms/step - accuracy: 0.9806 - loss: 0.0657 \n",
            "Epoch 2/5\n",
            "\u001b[1m4/4\u001b[0m \u001b[32m━━━━━━━━━━━━━━━━━━━━\u001b[0m\u001b[37m\u001b[0m \u001b[1m0s\u001b[0m 6ms/step - accuracy: 0.9733 - loss: 0.0702 \n",
            "Epoch 3/5\n",
            "\u001b[1m4/4\u001b[0m \u001b[32m━━━━━━━━━━━━━━━━━━━━\u001b[0m\u001b[37m\u001b[0m \u001b[1m0s\u001b[0m 6ms/step - accuracy: 0.9608 - loss: 0.0743 \n",
            "Epoch 4/5\n",
            "\u001b[1m4/4\u001b[0m \u001b[32m━━━━━━━━━━━━━━━━━━━━\u001b[0m\u001b[37m\u001b[0m \u001b[1m0s\u001b[0m 6ms/step - accuracy: 0.9514 - loss: 0.0891 \n",
            "Epoch 5/5\n",
            "\u001b[1m4/4\u001b[0m \u001b[32m━━━━━━━━━━━━━━━━━━━━\u001b[0m\u001b[37m\u001b[0m \u001b[1m0s\u001b[0m 6ms/step - accuracy: 0.9639 - loss: 0.0755 \n"
          ]
        },
        {
          "output_type": "execute_result",
          "data": {
            "text/plain": [
              "<keras.src.callbacks.history.History at 0x7e0a7c266350>"
            ]
          },
          "metadata": {},
          "execution_count": 43
        }
      ]
    },
    {
      "cell_type": "code",
      "source": [
        "pred=model.predict(x_test)"
      ],
      "metadata": {
        "colab": {
          "base_uri": "https://localhost:8080/"
        },
        "id": "irwBTqUj_Vi3",
        "outputId": "23dd9cda-0901-493f-aa4c-6d563e9d2e2b"
      },
      "execution_count": 44,
      "outputs": [
        {
          "output_type": "stream",
          "name": "stdout",
          "text": [
            "\u001b[1m2/2\u001b[0m \u001b[32m━━━━━━━━━━━━━━━━━━━━\u001b[0m\u001b[37m\u001b[0m \u001b[1m0s\u001b[0m 44ms/step\n"
          ]
        }
      ]
    },
    {
      "cell_type": "code",
      "source": [
        "loss,acc=model.evaluate(x_test,y_test)"
      ],
      "metadata": {
        "colab": {
          "base_uri": "https://localhost:8080/"
        },
        "id": "-EACEhyO_wQF",
        "outputId": "800c7067-6f53-4856-97ab-237d208287d6"
      },
      "execution_count": 45,
      "outputs": [
        {
          "output_type": "stream",
          "name": "stdout",
          "text": [
            "\u001b[1m2/2\u001b[0m \u001b[32m━━━━━━━━━━━━━━━━━━━━\u001b[0m\u001b[37m\u001b[0m \u001b[1m0s\u001b[0m 19ms/step - accuracy: 0.9495 - loss: 0.1200\n"
          ]
        }
      ]
    },
    {
      "cell_type": "code",
      "source": [
        "print(acc)"
      ],
      "metadata": {
        "colab": {
          "base_uri": "https://localhost:8080/"
        },
        "id": "Aje8oKdL_1G3",
        "outputId": "f123fc64-0cb7-45e0-addc-90d93c34e638"
      },
      "execution_count": 46,
      "outputs": [
        {
          "output_type": "stream",
          "name": "stdout",
          "text": [
            "0.9555555582046509\n"
          ]
        }
      ]
    },
    {
      "cell_type": "code",
      "source": [
        "print(loss)"
      ],
      "metadata": {
        "colab": {
          "base_uri": "https://localhost:8080/"
        },
        "id": "cw-SqE0n_19i",
        "outputId": "56a2d47d-771a-4fd0-d049-36fac9e58303"
      },
      "execution_count": 47,
      "outputs": [
        {
          "output_type": "stream",
          "name": "stdout",
          "text": [
            "0.10851971060037613\n"
          ]
        }
      ]
    },
    {
      "cell_type": "code",
      "source": [
        "testing_data=np.array([[5, 19, 2, 6]])\n",
        "p=model.predict(testing_data)"
      ],
      "metadata": {
        "colab": {
          "base_uri": "https://localhost:8080/"
        },
        "id": "IPjxAWzc_3iA",
        "outputId": "87fa2191-15fb-4ea3-a0eb-e36a627e28a1"
      },
      "execution_count": 70,
      "outputs": [
        {
          "output_type": "stream",
          "name": "stdout",
          "text": [
            "\u001b[1m1/1\u001b[0m \u001b[32m━━━━━━━━━━━━━━━━━━━━\u001b[0m\u001b[37m\u001b[0m \u001b[1m0s\u001b[0m 26ms/step\n"
          ]
        }
      ]
    },
    {
      "cell_type": "code",
      "source": [
        "print(np.argmax(p))"
      ],
      "metadata": {
        "colab": {
          "base_uri": "https://localhost:8080/"
        },
        "id": "tDuYYUX1_9BD",
        "outputId": "756bc3ea-f497-49ab-a85a-4e99ebff1a8c"
      },
      "execution_count": 71,
      "outputs": [
        {
          "output_type": "stream",
          "name": "stdout",
          "text": [
            "0\n"
          ]
        }
      ]
    },
    {
      "cell_type": "code",
      "source": [],
      "metadata": {
        "id": "UhGAetpFAetX"
      },
      "execution_count": null,
      "outputs": []
    }
  ]
}